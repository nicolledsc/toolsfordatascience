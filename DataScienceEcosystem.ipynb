{
 "cells": [
  {
   "cell_type": "markdown",
   "id": "3b7ee8ac-8258-4658-9fc0-e0dc24526909",
   "metadata": {
    "tags": []
   },
   "source": [
    "# Data Science Tools and Ecosystem"
   ]
  },
  {
   "cell_type": "markdown",
   "id": "d94863b6-3c3c-4c04-9178-dcd123380350",
   "metadata": {},
   "source": [
    "This notebook provides a summary of data science tools and their ecosystem."
   ]
  },
  {
   "cell_type": "markdown",
   "id": "b4df4949-9a8d-4f95-b72f-30899b2348f0",
   "metadata": {},
   "source": [
    "**Objectives**"
   ]
  },
  {
   "cell_type": "markdown",
   "id": "5e26aff4-c581-4fbb-9ef5-1fe336f70757",
   "metadata": {},
   "source": [
    "- List the most used languages for Data Science\n",
    "- List the most common libraries for Data Science\n",
    "- Identify Data Science Tools"
   ]
  },
  {
   "cell_type": "markdown",
   "id": "e912d549-b8e7-4ad4-b56f-1326b1510faf",
   "metadata": {
    "tags": []
   },
   "source": [
    "Some of the most used languages for Data Science are:"
   ]
  },
  {
   "cell_type": "markdown",
   "id": "4777819c-bde4-4637-a52c-1ed504dddbbf",
   "metadata": {},
   "source": [
    "  1. Python\n",
    "  2. R\n",
    "  3. SQL\n",
    "  4. Scala\n",
    "  5. Java\n",
    "    "
   ]
  },
  {
   "cell_type": "markdown",
   "id": "954713a2-b60a-42ec-9b65-c5f209af2873",
   "metadata": {
    "tags": []
   },
   "source": [
    "Data Scientists commonly use the following libraries:"
   ]
  },
  {
   "cell_type": "markdown",
   "id": "b317bce3-6981-481f-9e8f-72860ea5b883",
   "metadata": {},
   "source": [
    "1. Pandas\n",
    "2. NumPy\n",
    "3. SciPy\n",
    "4. Matplotlib"
   ]
  },
  {
   "cell_type": "markdown",
   "id": "013a61aa-f3d8-400e-b052-6c9a1aba958a",
   "metadata": {
    "tags": []
   },
   "source": [
    "|Data Science Tools|\n",
    "|-------------|\n",
    "|Jupyter Notebook|\n",
    "|RStudio|\n",
    "|Spyder|"
   ]
  },
  {
   "cell_type": "markdown",
   "id": "205df7c0-bade-4a52-b85e-ef0af6211915",
   "metadata": {},
   "source": [
    "### Below are a few examples of evaluating arithmetic expressions in Python"
   ]
  },
  {
   "cell_type": "markdown",
   "id": "0a3104df-6432-4b6e-bf42-14eded705c5d",
   "metadata": {},
   "source": [
    "### Below are a few examples of evaluating arithmetic expressions in Python"
   ]
  },
  {
   "cell_type": "code",
   "execution_count": 9,
   "id": "9f21822f-50ac-4296-97fc-4a93630b803d",
   "metadata": {
    "tags": []
   },
   "outputs": [
    {
     "data": {
      "text/plain": [
       "17"
      ]
     },
     "execution_count": 9,
     "metadata": {},
     "output_type": "execute_result"
    }
   ],
   "source": [
    "# This is a basic arithmetic expression for multiplying and then adding integers.\n",
    "(3*4)+5"
   ]
  },
  {
   "cell_type": "code",
   "execution_count": 10,
   "id": "1e154538-2dc7-485f-a80a-00c78bad6e10",
   "metadata": {
    "tags": []
   },
   "outputs": [
    {
     "data": {
      "text/plain": [
       "3.3333333333333335"
      ]
     },
     "execution_count": 10,
     "metadata": {},
     "output_type": "execute_result"
    }
   ],
   "source": [
    "# This will convert 200 minutes to hours by diving by 60\n",
    "200/60"
   ]
  },
  {
   "cell_type": "markdown",
   "id": "10a29611-d11a-4922-9ff2-4de8d802a756",
   "metadata": {},
   "source": [
    "## Author\n",
    "Nicolle\n"
   ]
  }
 ],
 "metadata": {
  "kernelspec": {
   "display_name": "Python",
   "language": "python",
   "name": "conda-env-python-py"
  },
  "language_info": {
   "codemirror_mode": {
    "name": "ipython",
    "version": 3
   },
   "file_extension": ".py",
   "mimetype": "text/x-python",
   "name": "python",
   "nbconvert_exporter": "python",
   "pygments_lexer": "ipython3",
   "version": "3.7.12"
  }
 },
 "nbformat": 4,
 "nbformat_minor": 5
}
